{
  "nbformat": 4,
  "nbformat_minor": 0,
  "metadata": {
    "colab": {
      "name": "Bug - AG.ipynb",
      "provenance": [],
      "collapsed_sections": []
    },
    "kernelspec": {
      "name": "python3",
      "display_name": "Python 3"
    },
    "language_info": {
      "name": "python"
    }
  },
  "cells": [
    {
      "cell_type": "code",
      "source": [
        "from random import randint\n",
        "from functools import cmp_to_key\n",
        "import math\n",
        "from skimage import color\n",
        "\n",
        "florestColor = [100,35,50] #cor da florsta, que o inseto deve se adaptar em LAB\n",
        "maxPopulation = 1000 #população maxima\n",
        "floorMutationNumber = 96 # numero randomico que o algoritmo de mutação se baseia, para realizar, ou não, a mutação\n",
        "mutationIncrease = 5 # qtd de cor que a mutação adiciona ou decrementa\n",
        "goodsCreaturePerPopulation = 3 # ELITISMO -  qtd de melhores individuos mantidos por cada nova geração\n",
        "\n",
        "rF = florestColor[0] \n",
        "gF = florestColor[1]\n",
        "bF = florestColor[2]"
      ],
      "metadata": {
        "id": "fiyAkFeRsSxj"
      },
      "execution_count": 54,
      "outputs": []
    },
    {
      "cell_type": "code",
      "source": [
        "\n",
        "def crossover(bug1,bug2): # gera um novo individuo, com base em outro\n",
        "    bugOneColors = [bug1.r, bug1.g,bug1.b]\n",
        "    bugTwoColors = [bug2.r, bug2.g,bug2.b]\n",
        "    randomColor = randint(0, 2)\n",
        "    bugTwoColors[randomColor] = bugOneColors[randomColor]\n",
        "    newBug = Bug()\n",
        "    newBug.r = bugTwoColors[0]\n",
        "    newBug.g = bugTwoColors[1]\n",
        "    newBug.b = bugTwoColors[2]\n",
        "    newBug.setFitness()\n",
        "    return newBug\n",
        "\n",
        "def mutation(bug1): #realiza uma mutação, ou não, com base em um valor randomico\n",
        "\n",
        "  randomNumber = randint(0,100)\n",
        "\n",
        "  if randomNumber >= floorMutationNumber:\n",
        "    bugColor = [bug1.r, bug1.g, bug1.b]\n",
        "    randomColor = randint(0,2)\n",
        "    randomOperation = randint(0,100)\n",
        "    if randomOperation <= 50:\n",
        "      bugColor[randomColor] = bugColor[randomColor] + mutationIncrease;\n",
        "    else:\n",
        "      bugColor[randomColor] = bugColor[randomColor] - mutationIncrease;\n",
        "\n",
        "    if bugColor[randomColor] > 255:\n",
        "        bugColor[randomColor] = bugColor[randomColor] - (mutationIncrease * 3)\n",
        "    if bugColor[randomColor] < 0:\n",
        "        bugColor[randomColor] = bugColor[randomColor] * -1 \n",
        "\n",
        "    bug1.r = bugColor[0]\n",
        "    bug1.g = bugColor[1]\n",
        "    bug1.b = bugColor[2]\n",
        "    bug1.setFitness()\n",
        "    return bug1;\n",
        "  else:\n",
        "    return bug1;\n",
        "\n",
        "def fitnessAverage(bugs):\n",
        "    average = 0.0\n",
        "    for x in bugs:\n",
        "      average += x.fitness\n",
        "\n",
        "    return float(average/len(bugs))\n",
        "\n",
        "\n"
      ],
      "metadata": {
        "id": "HPDoqogkDe6q"
      },
      "execution_count": 55,
      "outputs": []
    },
    {
      "cell_type": "code",
      "execution_count": 56,
      "metadata": {
        "id": "9pz4OdJWpQLG"
      },
      "outputs": [],
      "source": [
        "class Bug:\n",
        "    \n",
        "    def __init__(self):\n",
        "        self.r = randint(0,255)\n",
        "        self.g = randint(0,255)\n",
        "        self.b = randint(0,255)\n",
        "        self.fitness = float( (((abs(rF - self.r)/255) + (abs(gF - self.g)/255) + (abs(bF - self.b)/255) )/3) * 100) \n",
        "\n",
        "    def __str__(self):\n",
        "        return '[{},{},{}]'.format(self.r, self.g, self.b)\n",
        "\n",
        "    def setFitness(self):\n",
        "       self.fitness = float( (((abs(rF - self.r)/255) + (abs(gF - self.g)/255) + (abs(bF - self.b)/255) )/3) * 100) \n"
      ]
    },
    {
      "cell_type": "code",
      "source": [
        "def bug_comparator(Bug1, Bug2):\n",
        "   if Bug1.fitness < Bug2.fitness:\n",
        "      return -1\n",
        "   elif Bug1.fitness > Bug2.fitness:\n",
        "      return 1\n",
        "   else:\n",
        "      return 0"
      ],
      "metadata": {
        "id": "q0EhUZhw1OOR"
      },
      "execution_count": 57,
      "outputs": []
    },
    {
      "cell_type": "code",
      "source": [
        "class Population:\n",
        "\n",
        "  def __init__(self):\n",
        "    self.bugs = []\n",
        "\n",
        "  def createPopulation(self,maxPopulation):\n",
        "    for i in range(maxPopulation):\n",
        "      self.bugs.append(Bug())\n",
        "\n",
        "    return self.bugs;\n",
        "\n",
        "  def getMaxFitnessBugsCurrentPopulation(self): #retorna os melhores individuos da população\n",
        "    ordered = sorted(self.bugs, key = cmp_to_key(bug_comparator), reverse=True)\n",
        "    return ordered[-10:] #retorna os N ultimos elementos da lista ordenada (os melhores fitness)\n",
        "\n",
        "  def createNewBug(self):\n",
        "    crossOrMutation = randint(0,100)  \n",
        "    if crossOrMutation <= 50:\n",
        "      return crossover(self.bugs[randint(0,len(self.bugs) - 1)], self.bugs[randint(1,len(self.bugs)-1)])\n",
        "    else:\n",
        "      return mutation(self.bugs[randint(0,len(self.bugs) - 1)])\n",
        "\n",
        "  \n",
        "\n",
        "  "
      ],
      "metadata": {
        "id": "L7OZsKCQyWFx"
      },
      "execution_count": 58,
      "outputs": []
    },
    {
      "cell_type": "code",
      "source": [
        "fitnessFloor = 0.03;\n",
        "\n",
        "def generateNewPopulations():\n",
        "    initialPopulation = Population()\n",
        "    initialPopulation.createPopulation(maxPopulation) #cria população com o numero MaxPopulation de individuos\n",
        "    #porcentagem de fitness dos melhores individuos da população\n",
        "    maxGenerations = 1000\n",
        "    currentGeneration = 1;\n",
        "\n",
        "\n",
        "    currentPopulation = initialPopulation;\n",
        "    averageFit = fitnessAverage(currentPopulation.getMaxFitnessBugsCurrentPopulation())\n",
        "    #condição de parada se baseia em atingir um fitnessFloor ou N max de gerações | poderiamos tbm verificar as ultimas 3 gerações\n",
        "    # e se o fitness global continuasse igual ou mt proximo, parar o algoritmo\n",
        "    while averageFit >= fitnessFloor and currentGeneration < maxGenerations:\n",
        "      \n",
        "      newBugsPopulation = currentPopulation.getMaxFitnessBugsCurrentPopulation() #elitismo -> recuperando melhores insetos da população atual\n",
        "      while (len(newBugsPopulation) < maxPopulation): #enquanto a população nova n tiver o mesmo tamanho da antiga continua enchendo o array\n",
        "          newBugsPopulation.append(currentPopulation.createNewBug()) #gera novos individuos com base na população atual\n",
        "\n",
        "\n",
        "      currentPopulation.bugs = newBugsPopulation\n",
        "      averageFit = fitnessAverage(currentPopulation.getMaxFitnessBugsCurrentPopulation())\n",
        "      currentGeneration += 1;\n",
        "\n",
        "    return currentPopulation;\n",
        "\n",
        "\n",
        "populationFinal = generateNewPopulations()"
      ],
      "metadata": {
        "id": "hoE2Gc2dLz8_"
      },
      "execution_count": 66,
      "outputs": []
    },
    {
      "cell_type": "code",
      "source": [
        "print(\"Florest Color: \", florestColor)\n",
        "print(\"Fitness minimum:\", fitnessFloor)\n",
        "print(\"Best Bugs in Population color:\")\n",
        "for x in populationFinal.getMaxFitnessBugsCurrentPopulation():\n",
        "  print(x)\n"
      ],
      "metadata": {
        "id": "DjbgPUFxNeUG",
        "colab": {
          "base_uri": "https://localhost:8080/"
        },
        "outputId": "18564b07-f713-43fd-d6ea-df15b23ae075"
      },
      "execution_count": 67,
      "outputs": [
        {
          "output_type": "stream",
          "name": "stdout",
          "text": [
            "Florest Color:  [100, 35, 50]\n",
            "Fitness minimum: 2.03\n",
            "Best Bugs in Population color:\n",
            "[89,35,54]\n",
            "[89,35,54]\n",
            "[89,35,54]\n",
            "[89,35,54]\n",
            "[89,35,54]\n",
            "[89,35,54]\n",
            "[89,35,54]\n",
            "[89,35,54]\n",
            "[89,35,54]\n",
            "[99,35,54]\n"
          ]
        }
      ]
    }
  ]
}