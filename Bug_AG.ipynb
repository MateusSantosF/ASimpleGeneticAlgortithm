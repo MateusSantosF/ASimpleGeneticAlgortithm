{
  "nbformat": 4,
  "nbformat_minor": 0,
  "metadata": {
    "colab": {
      "name": "Bug - AG.ipynb",
      "provenance": [],
      "collapsed_sections": [],
      "authorship_tag": "ABX9TyOuaVg781XIlfQWMX+AMteY",
      "include_colab_link": true
    },
    "kernelspec": {
      "name": "python3",
      "display_name": "Python 3"
    },
    "language_info": {
      "name": "python"
    }
  },
  "cells": [
    {
      "cell_type": "markdown",
      "metadata": {
        "id": "view-in-github",
        "colab_type": "text"
      },
      "source": [
        "<a href=\"https://colab.research.google.com/github/MateusSantosF/ASimpleGeneticAlgortithm/blob/main/Bug_AG.ipynb\" target=\"_parent\"><img src=\"https://colab.research.google.com/assets/colab-badge.svg\" alt=\"Open In Colab\"/></a>"
      ]
    },
    {
      "cell_type": "code",
      "source": [
        "from random import randint\n",
        "from functools import cmp_to_key\n",
        "import math\n",
        "import matplotlib.pyplot as plt\n",
        "import matplotlib.colors as mcolors\n",
        "import numpy as np\n",
        "\n",
        "florestColor = [100,35,50] #cor da floresta, que o inseto deve se adaptar\n",
        "rF = florestColor[0] \n",
        "gF = florestColor[1]\n",
        "bF = florestColor[2]\n",
        "\n",
        "maxPopulation = 1000 #população maxima\n",
        "floorMutationNumber = 96 # numero que o algoritmo de mutação se baseia, para realizar, ou não, a mutação\n",
        "mutationIncrease = 5 # quantidade de cor que a mutação adiciona ou decrementa\n",
        "goodsCreaturePerPopulation = 10 #ELITISMO- qtd de melhores individuos mantidos por cada nova geração\n",
        "\n"
      ],
      "metadata": {
        "id": "fiyAkFeRsSxj"
      },
      "execution_count": 186,
      "outputs": []
    },
    {
      "cell_type": "code",
      "source": [
        "\n",
        "def crossover(bug1,bug2): # gera um novo individuo, com base em outro\n",
        "    bugOneColors = [bug1.r, bug1.g,bug1.b]\n",
        "    bugTwoColors = [bug2.r, bug2.g,bug2.b]\n",
        "    randomColor = randint(0, 2)\n",
        "    bugTwoColors[randomColor] = bugOneColors[randomColor]\n",
        "    newBug = Bug()\n",
        "    newBug.r = bugTwoColors[0]\n",
        "    newBug.g = bugTwoColors[1]\n",
        "    newBug.b = bugTwoColors[2]\n",
        "    newBug.setFitness()\n",
        "    return newBug\n",
        "\n",
        "def mutation(bug1): #realiza uma mutação, ou não, com base em um valor randomico\n",
        "\n",
        "  randomNumber = randint(0,100)\n",
        "  if randomNumber >= floorMutationNumber:\n",
        "    bugColor = [bug1.r, bug1.g, bug1.b]\n",
        "    randomColor = randint(0,2)\n",
        "    randomOperation = randint(0,100)\n",
        "    if randomOperation <= 50:\n",
        "      bugColor[randomColor] = bugColor[randomColor] + mutationIncrease;\n",
        "    else:\n",
        "      bugColor[randomColor] = bugColor[randomColor] - mutationIncrease;\n",
        "\n",
        "    if bugColor[randomColor] > 255:\n",
        "        bugColor[randomColor] = bugColor[randomColor] - (mutationIncrease * 3)\n",
        "    if bugColor[randomColor] < 0:\n",
        "        bugColor[randomColor] = bugColor[randomColor] * -1 \n",
        "\n",
        "    bug1.r = bugColor[0]\n",
        "    bug1.g = bugColor[1]\n",
        "    bug1.b = bugColor[2]\n",
        "    bug1.setFitness()\n",
        "    return bug1;\n",
        "  else:\n",
        "    return bug1;\n",
        "\n",
        "def fitnessAverage(bugs): #calcula a média do fitness da lista de insetos recebida\n",
        "    average = 0.0\n",
        "    for x in bugs:\n",
        "      average += x.fitness\n",
        "\n",
        "    return float(average/len(bugs))"
      ],
      "metadata": {
        "id": "HPDoqogkDe6q"
      },
      "execution_count": 187,
      "outputs": []
    },
    {
      "cell_type": "code",
      "execution_count": 188,
      "metadata": {
        "id": "9pz4OdJWpQLG"
      },
      "outputs": [],
      "source": [
        "class Bug:\n",
        "    \n",
        "    def __init__(self):\n",
        "        self.r = randint(0,255)\n",
        "        self.g = randint(0,255)\n",
        "        self.b = randint(0,255)\n",
        "        self.fitness = float( (((abs(rF - self.r)/255) + (abs(gF - self.g)/255) + (abs(bF - self.b)/255) )/3) * 100) \n",
        "\n",
        "    def __str__(self):\n",
        "        return '[{},{},{}]'.format(self.r, self.g, self.b)\n",
        "\n",
        "    def setFitness(self):\n",
        "       self.fitness = float( (((abs(rF - self.r)/255) + (abs(gF - self.g)/255) + (abs(bF - self.b)/255) )/3) * 100) \n"
      ]
    },
    {
      "cell_type": "code",
      "source": [
        "def bug_comparator(Bug1, Bug2):\n",
        "   if Bug1.fitness < Bug2.fitness:\n",
        "      return -1\n",
        "   elif Bug1.fitness > Bug2.fitness:\n",
        "      return 1\n",
        "   else:\n",
        "      return 0"
      ],
      "metadata": {
        "id": "q0EhUZhw1OOR"
      },
      "execution_count": 189,
      "outputs": []
    },
    {
      "cell_type": "code",
      "source": [
        "class Generation:\n",
        "  def __init__(self, generationNumber, averageFitness):\n",
        "      self.generationNumber = generationNumber\n",
        "      self.averageFitness = averageFitness;\n"
      ],
      "metadata": {
        "id": "yl-bqbY_xLI2"
      },
      "execution_count": 190,
      "outputs": []
    },
    {
      "cell_type": "code",
      "source": [
        "class Population:\n",
        "\n",
        "  def __init__(self):\n",
        "    self.bugs = []\n",
        "\n",
        "  def createPopulation(self,maxPopulation):\n",
        "    for i in range(maxPopulation):\n",
        "      self.bugs.append(Bug())\n",
        "\n",
        "    return self.bugs;\n",
        "\n",
        "  def getMaxFitnessBugsCurrentPopulation(self): #retorna os melhores individuos da população\n",
        "    ordered = sorted(self.bugs, key = cmp_to_key(bug_comparator), reverse=True)\n",
        "    return ordered[-goodsCreaturePerPopulation:] \n",
        "\n",
        "  def createNewBug(self):\n",
        "    crossOrMutation = randint(0,100)  \n",
        "    if crossOrMutation <= 50:\n",
        "      return crossover(self.bugs[randint(0,len(self.bugs) - 1)], self.bugs[randint(1,len(self.bugs)-1)])\n",
        "    else:\n",
        "      return mutation(self.bugs[randint(0,len(self.bugs) - 1)])  "
      ],
      "metadata": {
        "id": "L7OZsKCQyWFx"
      },
      "execution_count": 191,
      "outputs": []
    },
    {
      "cell_type": "code",
      "source": [
        "fitnessFloor = 0.03;  #porcentagem de fitness dos melhores individuos da população\n",
        "\n",
        "dataset = [ ]\n",
        "\n",
        "def generateNewPopulations():\n",
        "    initialPopulation = Population()\n",
        "    initialPopulation.createPopulation(maxPopulation)\n",
        "    maxGenerations = 1000\n",
        "    currentGeneration = 1;\n",
        "\n",
        "    currentPopulation = initialPopulation;\n",
        "    averageFit = fitnessAverage(currentPopulation.getMaxFitnessBugsCurrentPopulation())\n",
        "    dataset.append(Generation(currentGeneration, fitnessAverage(currentPopulation.bugs))) #cria dataset para plotar\n",
        "\n",
        "    # Condição de parada se baseia em atingir um fitnessFloor ou N max de gerações | poderiamos tbm verificar o fitness das ultimas 3 \n",
        "    # gerações e se o fitness global continuasse igual ou muito proximo, parar o algoritmo\n",
        "    while averageFit > fitnessFloor and currentGeneration < maxGenerations:\n",
        "      \n",
        "      newBugsPopulation = currentPopulation.getMaxFitnessBugsCurrentPopulation() #elitismo -> recuperando melhores insetos da população atual\n",
        "      while (len(newBugsPopulation) < maxPopulation): #enquanto a população nova n tiver o mesmo tamanho da antiga continua enchendo o array\n",
        "          newBugsPopulation.append(currentPopulation.createNewBug()) #gera novos individuos com base na população atual\n",
        "\n",
        "      currentPopulation.bugs = newBugsPopulation\n",
        "      averageFit = fitnessAverage(currentPopulation.getMaxFitnessBugsCurrentPopulation()) #MEDIA COM BASE NOS MELHORES\n",
        "      currentGeneration += 1;\n",
        "      dataset.append(Generation(currentGeneration, fitnessAverage(currentPopulation.bugs))) #MÉDIA COM BASE EM TODOS \n",
        "\n",
        "    return currentPopulation;\n",
        "\n",
        "\n",
        "populationFinal = generateNewPopulations()"
      ],
      "metadata": {
        "id": "hoE2Gc2dLz8_"
      },
      "execution_count": 192,
      "outputs": []
    },
    {
      "cell_type": "code",
      "source": [
        "print(\"Florest Color: \", florestColor)\n",
        "print(\"Fitness minimum:\", fitnessFloor)\n",
        "print(\"Best Fitness inside bests bugs: \", populationFinal.getMaxFitnessBugsCurrentPopulation()[goodsCreaturePerPopulation -1].fitness )\n",
        "print(\"Colors of {0} best bugs\".format(goodsCreaturePerPopulation))\n",
        "for bestBug in populationFinal.getMaxFitnessBugsCurrentPopulation():\n",
        "  print(bestBug)\n",
        "\n",
        "#FIRST PLOT\n",
        "X = [] # Generations\n",
        "y = [] # Average fitness\n",
        "for generation in dataset:\n",
        "  X.append(generation.generationNumber)\n",
        "  y.append(generation.averageFitness)\n",
        "\n",
        "fig, ax = plt.subplots()\n",
        "ax.plot(X,y)\n",
        "plt.xlabel(' Generation')\n",
        "plt.ylabel('Fitness Average')\n",
        "plt.title(\"Fitness average ALL bugs in population\")\n",
        "\n",
        "# PLOT ARROW\n",
        "ymax = max(y)\n",
        "xpos = y.index(ymax)\n",
        "xmax = X[xpos]\n",
        "\n",
        "ymin = min(y)\n",
        "xminPos = y.index(ymin)\n",
        "xmin = X[xminPos]\n",
        "\n",
        "ax.annotate(\"MaxPoint ({:.3f}, {:.3f})\".format(xmax, ymax), xy=(xmax, ymax), xytext=(xmax, ymax+5),\n",
        "            arrowprops=dict(facecolor='black', shrink=0.05),\n",
        "            )\n",
        "\n",
        "ax.annotate(\"MinPoint ({:.3f}, {:.3f})\".format(xmin, ymin), xy=(xmin, ymin), xytext=(xmin, ymin+5),\n",
        "            arrowprops=dict(facecolor='black', shrink=0.05),\n",
        "            )\n"
      ],
      "metadata": {
        "id": "DjbgPUFxNeUG",
        "colab": {
          "base_uri": "https://localhost:8080/",
          "height": 583
        },
        "outputId": "1c3c2f3e-70f7-4e2e-d1cc-305239edb189"
      },
      "execution_count": 193,
      "outputs": [
        {
          "output_type": "stream",
          "name": "stdout",
          "text": [
            "Florest Color:  [100, 35, 50]\n",
            "Fitness minimum: 0.03\n",
            "Best Fitness inside bests bugs:  0.261437908496732\n",
            "Colors of 10 best bugs\n",
            "[101,35,51]\n",
            "[101,35,51]\n",
            "[101,35,51]\n",
            "[101,35,51]\n",
            "[101,35,51]\n",
            "[101,35,51]\n",
            "[101,35,51]\n",
            "[101,35,51]\n",
            "[101,35,51]\n",
            "[101,35,51]\n"
          ]
        },
        {
          "output_type": "execute_result",
          "data": {
            "text/plain": [
              "Text(613, 6.455032679738561, 'MinPoint (613.000, 1.455)')"
            ]
          },
          "metadata": {},
          "execution_count": 193
        },
        {
          "output_type": "display_data",
          "data": {
            "text/plain": [
              "<Figure size 432x288 with 1 Axes>"
            ],
            "image/png": "[encoded data removed]"
          },
          "metadata": {
            "needs_background": "light"
          }
        }
      ]
    }
  ]
}